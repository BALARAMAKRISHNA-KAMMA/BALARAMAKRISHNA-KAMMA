{
 "cells": [
  {
   "cell_type": "code",
   "execution_count": null,
   "id": "69f5fdf3",
   "metadata": {},
   "outputs": [],
   "source": [
    "https://raw.githubusercontent.com/YBI-Foundation/Dataset/main/Salary%20Data.csv"
   ]
  },
  {
   "cell_type": "code",
   "execution_count": 10,
   "id": "c1fa165c",
   "metadata": {},
   "outputs": [],
   "source": [
    "import numpy as np\n",
    "import pandas as pd\n",
    "import matplotlib.pyplot as plt\n",
    "import seaborn as sns\n",
    "from scipy.stats import pointbiserialr,spearmanr\n",
    "from sklearn.feature_selection import SelectKBest\n",
    "from sklearn.model_selection import cross_val_score\n",
    "from sklearn.tree import DecisionTreeClassifier\n",
    "from sklearn.ensemble import RandomForestClassifier\n",
    "data = pd.read_csv(\"https://raw.githubusercontent.com/YBI-Foundation/Dataset/main/Salary%20Data.csv\")\n"
   ]
  },
  {
   "cell_type": "code",
   "execution_count": 11,
   "id": "d947dc8e",
   "metadata": {},
   "outputs": [
    {
     "data": {
      "text/plain": [
       "Index(['Experience Years', 'Salary'], dtype='object')"
      ]
     },
     "execution_count": 11,
     "metadata": {},
     "output_type": "execute_result"
    }
   ],
   "source": [
    "data.columns"
   ]
  },
  {
   "cell_type": "code",
   "execution_count": 19,
   "id": "ac03fd3a",
   "metadata": {},
   "outputs": [
    {
     "name": "stdout",
     "output_type": "stream",
     "text": [
      "Total number of records:40\n",
      "Individuals making more than $50,000:0\n",
      "Individuals making at most $50,000:0\n",
      "percentage of individuals making more than $50,000:0.0%\n"
     ]
    }
   ],
   "source": [
    "n_records = data.shape[0]\n",
    "n_greater_50k = data[data['Salary'] == '>50k'].shape[0]\n",
    "n_at_most_50k = data[data['Salary'] == '<=50k'].shape[0]\n",
    "greater_percent = (n_greater_50k / n_records)*100\n",
    "print(\"Total number of records:{}\".format(n_records))\n",
    "print(\"Individuals making more than $50,000:{}\".format(n_greater_50k))\n",
    "print(\"Individuals making at most $50,000:{}\".format(n_at_most_50k))\n",
    "print(\"percentage of individuals making more than $50,000:{}%\".format(greater_percent))"
   ]
  },
  {
   "cell_type": "code",
   "execution_count": 1,
   "id": "96802e64",
   "metadata": {},
   "outputs": [
    {
     "ename": "NameError",
     "evalue": "name 'data' is not defined",
     "output_type": "error",
     "traceback": [
      "\u001b[1;31m---------------------------------------------------------------------------\u001b[0m",
      "\u001b[1;31mNameError\u001b[0m                                 Traceback (most recent call last)",
      "Input \u001b[1;32mIn [1]\u001b[0m, in \u001b[0;36m<cell line: 1>\u001b[1;34m()\u001b[0m\n\u001b[1;32m----> 1\u001b[0m col_names \u001b[38;5;241m=\u001b[39m \u001b[43mdata\u001b[49m\u001b[38;5;241m.\u001b[39mcolumns\n\u001b[0;32m      2\u001b[0m num_data \u001b[38;5;241m=\u001b[39m data\u001b[38;5;241m.\u001b[39mshape[\u001b[38;5;241m0\u001b[39m]\n\u001b[0;32m      3\u001b[0m \u001b[38;5;28;01mfor\u001b[39;00m c \u001b[38;5;129;01min\u001b[39;00m col_names:\n",
      "\u001b[1;31mNameError\u001b[0m: name 'data' is not defined"
     ]
    }
   ],
   "source": [
    "col_names = data.columns\n",
    "num_data = data.shape[0]\n",
    "for c in col_names:\n",
    "    num_non=data[c].isin([\"?\"]).sum()\n",
    "    if num_non > 0:\n",
    "        print(c)\n",
    "        print(num_non)\n",
    "        print(\"{0:2f}%\".format(float(num_non) / num_data*100))"
   ]
  },
  {
   "cell_type": "code",
   "execution_count": null,
   "id": "e22d5721",
   "metadata": {},
   "outputs": [],
   "source": []
  }
 ],
 "metadata": {
  "kernelspec": {
   "display_name": "Python 3 (ipykernel)",
   "language": "python",
   "name": "python3"
  },
  "language_info": {
   "codemirror_mode": {
    "name": "ipython",
    "version": 3
   },
   "file_extension": ".py",
   "mimetype": "text/x-python",
   "name": "python",
   "nbconvert_exporter": "python",
   "pygments_lexer": "ipython3",
   "version": "3.9.12"
  }
 },
 "nbformat": 4,
 "nbformat_minor": 5
}
